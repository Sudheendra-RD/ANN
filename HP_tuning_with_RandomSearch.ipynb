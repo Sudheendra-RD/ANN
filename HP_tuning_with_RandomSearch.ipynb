{
  "nbformat": 4,
  "nbformat_minor": 0,
  "metadata": {
    "colab": {
      "name": "HP tuning with RandomSearch.ipynb",
      "provenance": [],
      "collapsed_sections": [],
      "mount_file_id": "1upgBopS1XMhvoMG4QpxxQ-5za9gE12eQ",
      "authorship_tag": "ABX9TyOLc5EhdKCai1C8F+0B/4os",
      "include_colab_link": true
    },
    "kernelspec": {
      "name": "python3",
      "display_name": "Python 3"
    },
    "language_info": {
      "name": "python"
    }
  },
  "cells": [
    {
      "cell_type": "markdown",
      "metadata": {
        "id": "view-in-github",
        "colab_type": "text"
      },
      "source": [
        "<a href=\"https://colab.research.google.com/github/Sudheendra-RD/ANN/blob/main/HP_tuning_with_RandomSearch.ipynb\" target=\"_parent\"><img src=\"https://colab.research.google.com/assets/colab-badge.svg\" alt=\"Open In Colab\"/></a>"
      ]
    },
    {
      "cell_type": "code",
      "execution_count": 1,
      "metadata": {
        "colab": {
          "base_uri": "https://localhost:8080/"
        },
        "id": "_kyy5T3mxz6b",
        "outputId": "357c309a-2dde-4559-cca4-3f55df091121"
      },
      "outputs": [
        {
          "output_type": "stream",
          "name": "stdout",
          "text": [
            "Requirement already satisfied: tensorflow in /usr/local/lib/python3.7/dist-packages (2.7.0)\n",
            "Requirement already satisfied: six>=1.12.0 in /usr/local/lib/python3.7/dist-packages (from tensorflow) (1.15.0)\n",
            "Requirement already satisfied: gast<0.5.0,>=0.2.1 in /usr/local/lib/python3.7/dist-packages (from tensorflow) (0.4.0)\n",
            "Requirement already satisfied: typing-extensions>=3.6.6 in /usr/local/lib/python3.7/dist-packages (from tensorflow) (3.10.0.2)\n",
            "Requirement already satisfied: wrapt>=1.11.0 in /usr/local/lib/python3.7/dist-packages (from tensorflow) (1.13.3)\n",
            "Requirement already satisfied: tensorflow-estimator<2.8,~=2.7.0rc0 in /usr/local/lib/python3.7/dist-packages (from tensorflow) (2.7.0)\n",
            "Requirement already satisfied: grpcio<2.0,>=1.24.3 in /usr/local/lib/python3.7/dist-packages (from tensorflow) (1.43.0)\n",
            "Requirement already satisfied: absl-py>=0.4.0 in /usr/local/lib/python3.7/dist-packages (from tensorflow) (0.12.0)\n",
            "Requirement already satisfied: google-pasta>=0.1.1 in /usr/local/lib/python3.7/dist-packages (from tensorflow) (0.2.0)\n",
            "Requirement already satisfied: termcolor>=1.1.0 in /usr/local/lib/python3.7/dist-packages (from tensorflow) (1.1.0)\n",
            "Requirement already satisfied: wheel<1.0,>=0.32.0 in /usr/local/lib/python3.7/dist-packages (from tensorflow) (0.37.1)\n",
            "Requirement already satisfied: libclang>=9.0.1 in /usr/local/lib/python3.7/dist-packages (from tensorflow) (12.0.0)\n",
            "Requirement already satisfied: flatbuffers<3.0,>=1.12 in /usr/local/lib/python3.7/dist-packages (from tensorflow) (2.0)\n",
            "Requirement already satisfied: numpy>=1.14.5 in /usr/local/lib/python3.7/dist-packages (from tensorflow) (1.19.5)\n",
            "Requirement already satisfied: keras-preprocessing>=1.1.1 in /usr/local/lib/python3.7/dist-packages (from tensorflow) (1.1.2)\n",
            "Requirement already satisfied: keras<2.8,>=2.7.0rc0 in /usr/local/lib/python3.7/dist-packages (from tensorflow) (2.7.0)\n",
            "Requirement already satisfied: astunparse>=1.6.0 in /usr/local/lib/python3.7/dist-packages (from tensorflow) (1.6.3)\n",
            "Requirement already satisfied: tensorflow-io-gcs-filesystem>=0.21.0 in /usr/local/lib/python3.7/dist-packages (from tensorflow) (0.23.1)\n",
            "Requirement already satisfied: tensorboard~=2.6 in /usr/local/lib/python3.7/dist-packages (from tensorflow) (2.7.0)\n",
            "Requirement already satisfied: h5py>=2.9.0 in /usr/local/lib/python3.7/dist-packages (from tensorflow) (3.1.0)\n",
            "Requirement already satisfied: opt-einsum>=2.3.2 in /usr/local/lib/python3.7/dist-packages (from tensorflow) (3.3.0)\n",
            "Requirement already satisfied: protobuf>=3.9.2 in /usr/local/lib/python3.7/dist-packages (from tensorflow) (3.17.3)\n",
            "Requirement already satisfied: cached-property in /usr/local/lib/python3.7/dist-packages (from h5py>=2.9.0->tensorflow) (1.5.2)\n",
            "Requirement already satisfied: google-auth<3,>=1.6.3 in /usr/local/lib/python3.7/dist-packages (from tensorboard~=2.6->tensorflow) (1.35.0)\n",
            "Requirement already satisfied: tensorboard-data-server<0.7.0,>=0.6.0 in /usr/local/lib/python3.7/dist-packages (from tensorboard~=2.6->tensorflow) (0.6.1)\n",
            "Requirement already satisfied: setuptools>=41.0.0 in /usr/local/lib/python3.7/dist-packages (from tensorboard~=2.6->tensorflow) (57.4.0)\n",
            "Requirement already satisfied: werkzeug>=0.11.15 in /usr/local/lib/python3.7/dist-packages (from tensorboard~=2.6->tensorflow) (1.0.1)\n",
            "Requirement already satisfied: requests<3,>=2.21.0 in /usr/local/lib/python3.7/dist-packages (from tensorboard~=2.6->tensorflow) (2.23.0)\n",
            "Requirement already satisfied: google-auth-oauthlib<0.5,>=0.4.1 in /usr/local/lib/python3.7/dist-packages (from tensorboard~=2.6->tensorflow) (0.4.6)\n",
            "Requirement already satisfied: tensorboard-plugin-wit>=1.6.0 in /usr/local/lib/python3.7/dist-packages (from tensorboard~=2.6->tensorflow) (1.8.1)\n",
            "Requirement already satisfied: markdown>=2.6.8 in /usr/local/lib/python3.7/dist-packages (from tensorboard~=2.6->tensorflow) (3.3.6)\n",
            "Requirement already satisfied: pyasn1-modules>=0.2.1 in /usr/local/lib/python3.7/dist-packages (from google-auth<3,>=1.6.3->tensorboard~=2.6->tensorflow) (0.2.8)\n",
            "Requirement already satisfied: cachetools<5.0,>=2.0.0 in /usr/local/lib/python3.7/dist-packages (from google-auth<3,>=1.6.3->tensorboard~=2.6->tensorflow) (4.2.4)\n",
            "Requirement already satisfied: rsa<5,>=3.1.4 in /usr/local/lib/python3.7/dist-packages (from google-auth<3,>=1.6.3->tensorboard~=2.6->tensorflow) (4.8)\n",
            "Requirement already satisfied: requests-oauthlib>=0.7.0 in /usr/local/lib/python3.7/dist-packages (from google-auth-oauthlib<0.5,>=0.4.1->tensorboard~=2.6->tensorflow) (1.3.0)\n",
            "Requirement already satisfied: importlib-metadata>=4.4 in /usr/local/lib/python3.7/dist-packages (from markdown>=2.6.8->tensorboard~=2.6->tensorflow) (4.10.0)\n",
            "Requirement already satisfied: zipp>=0.5 in /usr/local/lib/python3.7/dist-packages (from importlib-metadata>=4.4->markdown>=2.6.8->tensorboard~=2.6->tensorflow) (3.7.0)\n",
            "Requirement already satisfied: pyasn1<0.5.0,>=0.4.6 in /usr/local/lib/python3.7/dist-packages (from pyasn1-modules>=0.2.1->google-auth<3,>=1.6.3->tensorboard~=2.6->tensorflow) (0.4.8)\n",
            "Requirement already satisfied: certifi>=2017.4.17 in /usr/local/lib/python3.7/dist-packages (from requests<3,>=2.21.0->tensorboard~=2.6->tensorflow) (2021.10.8)\n",
            "Requirement already satisfied: idna<3,>=2.5 in /usr/local/lib/python3.7/dist-packages (from requests<3,>=2.21.0->tensorboard~=2.6->tensorflow) (2.10)\n",
            "Requirement already satisfied: urllib3!=1.25.0,!=1.25.1,<1.26,>=1.21.1 in /usr/local/lib/python3.7/dist-packages (from requests<3,>=2.21.0->tensorboard~=2.6->tensorflow) (1.24.3)\n",
            "Requirement already satisfied: chardet<4,>=3.0.2 in /usr/local/lib/python3.7/dist-packages (from requests<3,>=2.21.0->tensorboard~=2.6->tensorflow) (3.0.4)\n",
            "Requirement already satisfied: oauthlib>=3.0.0 in /usr/local/lib/python3.7/dist-packages (from requests-oauthlib>=0.7.0->google-auth-oauthlib<0.5,>=0.4.1->tensorboard~=2.6->tensorflow) (3.1.1)\n"
          ]
        }
      ],
      "source": [
        "pip install tensorflow"
      ]
    },
    {
      "cell_type": "code",
      "source": [
        "pip install keras-tuner"
      ],
      "metadata": {
        "colab": {
          "base_uri": "https://localhost:8080/"
        },
        "id": "9wKG8D6mytey",
        "outputId": "98c565f2-0f40-47d5-a62d-911a93370e1c"
      },
      "execution_count": 2,
      "outputs": [
        {
          "output_type": "stream",
          "name": "stdout",
          "text": [
            "Requirement already satisfied: keras-tuner in /usr/local/lib/python3.7/dist-packages (1.1.0)\n",
            "Requirement already satisfied: kt-legacy in /usr/local/lib/python3.7/dist-packages (from keras-tuner) (1.0.4)\n",
            "Requirement already satisfied: scipy in /usr/local/lib/python3.7/dist-packages (from keras-tuner) (1.4.1)\n",
            "Requirement already satisfied: requests in /usr/local/lib/python3.7/dist-packages (from keras-tuner) (2.23.0)\n",
            "Requirement already satisfied: packaging in /usr/local/lib/python3.7/dist-packages (from keras-tuner) (21.3)\n",
            "Requirement already satisfied: tensorboard in /usr/local/lib/python3.7/dist-packages (from keras-tuner) (2.7.0)\n",
            "Requirement already satisfied: numpy in /usr/local/lib/python3.7/dist-packages (from keras-tuner) (1.19.5)\n",
            "Requirement already satisfied: ipython in /usr/local/lib/python3.7/dist-packages (from keras-tuner) (5.5.0)\n",
            "Requirement already satisfied: pygments in /usr/local/lib/python3.7/dist-packages (from ipython->keras-tuner) (2.6.1)\n",
            "Requirement already satisfied: decorator in /usr/local/lib/python3.7/dist-packages (from ipython->keras-tuner) (4.4.2)\n",
            "Requirement already satisfied: prompt-toolkit<2.0.0,>=1.0.4 in /usr/local/lib/python3.7/dist-packages (from ipython->keras-tuner) (1.0.18)\n",
            "Requirement already satisfied: traitlets>=4.2 in /usr/local/lib/python3.7/dist-packages (from ipython->keras-tuner) (5.1.1)\n",
            "Requirement already satisfied: setuptools>=18.5 in /usr/local/lib/python3.7/dist-packages (from ipython->keras-tuner) (57.4.0)\n",
            "Requirement already satisfied: pexpect in /usr/local/lib/python3.7/dist-packages (from ipython->keras-tuner) (4.8.0)\n",
            "Requirement already satisfied: simplegeneric>0.8 in /usr/local/lib/python3.7/dist-packages (from ipython->keras-tuner) (0.8.1)\n",
            "Requirement already satisfied: pickleshare in /usr/local/lib/python3.7/dist-packages (from ipython->keras-tuner) (0.7.5)\n",
            "Requirement already satisfied: six>=1.9.0 in /usr/local/lib/python3.7/dist-packages (from prompt-toolkit<2.0.0,>=1.0.4->ipython->keras-tuner) (1.15.0)\n",
            "Requirement already satisfied: wcwidth in /usr/local/lib/python3.7/dist-packages (from prompt-toolkit<2.0.0,>=1.0.4->ipython->keras-tuner) (0.2.5)\n",
            "Requirement already satisfied: pyparsing!=3.0.5,>=2.0.2 in /usr/local/lib/python3.7/dist-packages (from packaging->keras-tuner) (3.0.6)\n",
            "Requirement already satisfied: ptyprocess>=0.5 in /usr/local/lib/python3.7/dist-packages (from pexpect->ipython->keras-tuner) (0.7.0)\n",
            "Requirement already satisfied: certifi>=2017.4.17 in /usr/local/lib/python3.7/dist-packages (from requests->keras-tuner) (2021.10.8)\n",
            "Requirement already satisfied: idna<3,>=2.5 in /usr/local/lib/python3.7/dist-packages (from requests->keras-tuner) (2.10)\n",
            "Requirement already satisfied: chardet<4,>=3.0.2 in /usr/local/lib/python3.7/dist-packages (from requests->keras-tuner) (3.0.4)\n",
            "Requirement already satisfied: urllib3!=1.25.0,!=1.25.1,<1.26,>=1.21.1 in /usr/local/lib/python3.7/dist-packages (from requests->keras-tuner) (1.24.3)\n",
            "Requirement already satisfied: tensorboard-plugin-wit>=1.6.0 in /usr/local/lib/python3.7/dist-packages (from tensorboard->keras-tuner) (1.8.1)\n",
            "Requirement already satisfied: google-auth<3,>=1.6.3 in /usr/local/lib/python3.7/dist-packages (from tensorboard->keras-tuner) (1.35.0)\n",
            "Requirement already satisfied: protobuf>=3.6.0 in /usr/local/lib/python3.7/dist-packages (from tensorboard->keras-tuner) (3.17.3)\n",
            "Requirement already satisfied: werkzeug>=0.11.15 in /usr/local/lib/python3.7/dist-packages (from tensorboard->keras-tuner) (1.0.1)\n",
            "Requirement already satisfied: google-auth-oauthlib<0.5,>=0.4.1 in /usr/local/lib/python3.7/dist-packages (from tensorboard->keras-tuner) (0.4.6)\n",
            "Requirement already satisfied: wheel>=0.26 in /usr/local/lib/python3.7/dist-packages (from tensorboard->keras-tuner) (0.37.1)\n",
            "Requirement already satisfied: grpcio>=1.24.3 in /usr/local/lib/python3.7/dist-packages (from tensorboard->keras-tuner) (1.43.0)\n",
            "Requirement already satisfied: absl-py>=0.4 in /usr/local/lib/python3.7/dist-packages (from tensorboard->keras-tuner) (0.12.0)\n",
            "Requirement already satisfied: markdown>=2.6.8 in /usr/local/lib/python3.7/dist-packages (from tensorboard->keras-tuner) (3.3.6)\n",
            "Requirement already satisfied: tensorboard-data-server<0.7.0,>=0.6.0 in /usr/local/lib/python3.7/dist-packages (from tensorboard->keras-tuner) (0.6.1)\n",
            "Requirement already satisfied: pyasn1-modules>=0.2.1 in /usr/local/lib/python3.7/dist-packages (from google-auth<3,>=1.6.3->tensorboard->keras-tuner) (0.2.8)\n",
            "Requirement already satisfied: cachetools<5.0,>=2.0.0 in /usr/local/lib/python3.7/dist-packages (from google-auth<3,>=1.6.3->tensorboard->keras-tuner) (4.2.4)\n",
            "Requirement already satisfied: rsa<5,>=3.1.4 in /usr/local/lib/python3.7/dist-packages (from google-auth<3,>=1.6.3->tensorboard->keras-tuner) (4.8)\n",
            "Requirement already satisfied: requests-oauthlib>=0.7.0 in /usr/local/lib/python3.7/dist-packages (from google-auth-oauthlib<0.5,>=0.4.1->tensorboard->keras-tuner) (1.3.0)\n",
            "Requirement already satisfied: importlib-metadata>=4.4 in /usr/local/lib/python3.7/dist-packages (from markdown>=2.6.8->tensorboard->keras-tuner) (4.10.0)\n",
            "Requirement already satisfied: typing-extensions>=3.6.4 in /usr/local/lib/python3.7/dist-packages (from importlib-metadata>=4.4->markdown>=2.6.8->tensorboard->keras-tuner) (3.10.0.2)\n",
            "Requirement already satisfied: zipp>=0.5 in /usr/local/lib/python3.7/dist-packages (from importlib-metadata>=4.4->markdown>=2.6.8->tensorboard->keras-tuner) (3.7.0)\n",
            "Requirement already satisfied: pyasn1<0.5.0,>=0.4.6 in /usr/local/lib/python3.7/dist-packages (from pyasn1-modules>=0.2.1->google-auth<3,>=1.6.3->tensorboard->keras-tuner) (0.4.8)\n",
            "Requirement already satisfied: oauthlib>=3.0.0 in /usr/local/lib/python3.7/dist-packages (from requests-oauthlib>=0.7.0->google-auth-oauthlib<0.5,>=0.4.1->tensorboard->keras-tuner) (3.1.1)\n"
          ]
        }
      ]
    },
    {
      "cell_type": "code",
      "source": [
        "import pandas as pd\n",
        "from tensorflow import keras\n",
        "from tensorflow.keras import layers\n",
        "from kerastuner.tuners import RandomSearch"
      ],
      "metadata": {
        "colab": {
          "base_uri": "https://localhost:8080/"
        },
        "id": "Ne5Av44SzFzO",
        "outputId": "584fb21c-c0cf-4752-e978-37fc5b517012"
      },
      "execution_count": 3,
      "outputs": [
        {
          "output_type": "stream",
          "name": "stderr",
          "text": [
            "/usr/local/lib/python3.7/dist-packages/ipykernel_launcher.py:4: DeprecationWarning: `import kerastuner` is deprecated, please use `import keras_tuner`.\n",
            "  after removing the cwd from sys.path.\n"
          ]
        }
      ]
    },
    {
      "cell_type": "code",
      "source": [
        "df = pd.read_csv('drive/MyDrive/Colab Notebooks/ANN/Real_Combine.csv')\n",
        "df.head(2)"
      ],
      "metadata": {
        "colab": {
          "base_uri": "https://localhost:8080/",
          "height": 112
        },
        "id": "3xUlqcr3QAFV",
        "outputId": "2222abac-a0eb-4bd2-9797-30b1a371f5a1"
      },
      "execution_count": 23,
      "outputs": [
        {
          "output_type": "execute_result",
          "data": {
            "text/html": [
              "\n",
              "  <div id=\"df-6b724c0a-a56d-4ee7-b9ce-c76a3cbfc2f8\">\n",
              "    <div class=\"colab-df-container\">\n",
              "      <div>\n",
              "<style scoped>\n",
              "    .dataframe tbody tr th:only-of-type {\n",
              "        vertical-align: middle;\n",
              "    }\n",
              "\n",
              "    .dataframe tbody tr th {\n",
              "        vertical-align: top;\n",
              "    }\n",
              "\n",
              "    .dataframe thead th {\n",
              "        text-align: right;\n",
              "    }\n",
              "</style>\n",
              "<table border=\"1\" class=\"dataframe\">\n",
              "  <thead>\n",
              "    <tr style=\"text-align: right;\">\n",
              "      <th></th>\n",
              "      <th>T</th>\n",
              "      <th>TM</th>\n",
              "      <th>Tm</th>\n",
              "      <th>SLP</th>\n",
              "      <th>H</th>\n",
              "      <th>VV</th>\n",
              "      <th>V</th>\n",
              "      <th>VM</th>\n",
              "      <th>PM 2.5</th>\n",
              "    </tr>\n",
              "  </thead>\n",
              "  <tbody>\n",
              "    <tr>\n",
              "      <th>0</th>\n",
              "      <td>7.4</td>\n",
              "      <td>9.8</td>\n",
              "      <td>4.8</td>\n",
              "      <td>1017.6</td>\n",
              "      <td>93.0</td>\n",
              "      <td>0.5</td>\n",
              "      <td>4.3</td>\n",
              "      <td>9.4</td>\n",
              "      <td>219.720833</td>\n",
              "    </tr>\n",
              "    <tr>\n",
              "      <th>1</th>\n",
              "      <td>7.8</td>\n",
              "      <td>12.7</td>\n",
              "      <td>4.4</td>\n",
              "      <td>1018.5</td>\n",
              "      <td>87.0</td>\n",
              "      <td>0.6</td>\n",
              "      <td>4.4</td>\n",
              "      <td>11.1</td>\n",
              "      <td>182.187500</td>\n",
              "    </tr>\n",
              "  </tbody>\n",
              "</table>\n",
              "</div>\n",
              "      <button class=\"colab-df-convert\" onclick=\"convertToInteractive('df-6b724c0a-a56d-4ee7-b9ce-c76a3cbfc2f8')\"\n",
              "              title=\"Convert this dataframe to an interactive table.\"\n",
              "              style=\"display:none;\">\n",
              "        \n",
              "  <svg xmlns=\"http://www.w3.org/2000/svg\" height=\"24px\"viewBox=\"0 0 24 24\"\n",
              "       width=\"24px\">\n",
              "    <path d=\"M0 0h24v24H0V0z\" fill=\"none\"/>\n",
              "    <path d=\"M18.56 5.44l.94 2.06.94-2.06 2.06-.94-2.06-.94-.94-2.06-.94 2.06-2.06.94zm-11 1L8.5 8.5l.94-2.06 2.06-.94-2.06-.94L8.5 2.5l-.94 2.06-2.06.94zm10 10l.94 2.06.94-2.06 2.06-.94-2.06-.94-.94-2.06-.94 2.06-2.06.94z\"/><path d=\"M17.41 7.96l-1.37-1.37c-.4-.4-.92-.59-1.43-.59-.52 0-1.04.2-1.43.59L10.3 9.45l-7.72 7.72c-.78.78-.78 2.05 0 2.83L4 21.41c.39.39.9.59 1.41.59.51 0 1.02-.2 1.41-.59l7.78-7.78 2.81-2.81c.8-.78.8-2.07 0-2.86zM5.41 20L4 18.59l7.72-7.72 1.47 1.35L5.41 20z\"/>\n",
              "  </svg>\n",
              "      </button>\n",
              "      \n",
              "  <style>\n",
              "    .colab-df-container {\n",
              "      display:flex;\n",
              "      flex-wrap:wrap;\n",
              "      gap: 12px;\n",
              "    }\n",
              "\n",
              "    .colab-df-convert {\n",
              "      background-color: #E8F0FE;\n",
              "      border: none;\n",
              "      border-radius: 50%;\n",
              "      cursor: pointer;\n",
              "      display: none;\n",
              "      fill: #1967D2;\n",
              "      height: 32px;\n",
              "      padding: 0 0 0 0;\n",
              "      width: 32px;\n",
              "    }\n",
              "\n",
              "    .colab-df-convert:hover {\n",
              "      background-color: #E2EBFA;\n",
              "      box-shadow: 0px 1px 2px rgba(60, 64, 67, 0.3), 0px 1px 3px 1px rgba(60, 64, 67, 0.15);\n",
              "      fill: #174EA6;\n",
              "    }\n",
              "\n",
              "    [theme=dark] .colab-df-convert {\n",
              "      background-color: #3B4455;\n",
              "      fill: #D2E3FC;\n",
              "    }\n",
              "\n",
              "    [theme=dark] .colab-df-convert:hover {\n",
              "      background-color: #434B5C;\n",
              "      box-shadow: 0px 1px 3px 1px rgba(0, 0, 0, 0.15);\n",
              "      filter: drop-shadow(0px 1px 2px rgba(0, 0, 0, 0.3));\n",
              "      fill: #FFFFFF;\n",
              "    }\n",
              "  </style>\n",
              "\n",
              "      <script>\n",
              "        const buttonEl =\n",
              "          document.querySelector('#df-6b724c0a-a56d-4ee7-b9ce-c76a3cbfc2f8 button.colab-df-convert');\n",
              "        buttonEl.style.display =\n",
              "          google.colab.kernel.accessAllowed ? 'block' : 'none';\n",
              "\n",
              "        async function convertToInteractive(key) {\n",
              "          const element = document.querySelector('#df-6b724c0a-a56d-4ee7-b9ce-c76a3cbfc2f8');\n",
              "          const dataTable =\n",
              "            await google.colab.kernel.invokeFunction('convertToInteractive',\n",
              "                                                     [key], {});\n",
              "          if (!dataTable) return;\n",
              "\n",
              "          const docLinkHtml = 'Like what you see? Visit the ' +\n",
              "            '<a target=\"_blank\" href=https://colab.research.google.com/notebooks/data_table.ipynb>data table notebook</a>'\n",
              "            + ' to learn more about interactive tables.';\n",
              "          element.innerHTML = '';\n",
              "          dataTable['output_type'] = 'display_data';\n",
              "          await google.colab.output.renderOutput(dataTable, element);\n",
              "          const docLink = document.createElement('div');\n",
              "          docLink.innerHTML = docLinkHtml;\n",
              "          element.appendChild(docLink);\n",
              "        }\n",
              "      </script>\n",
              "    </div>\n",
              "  </div>\n",
              "  "
            ],
            "text/plain": [
              "     T    TM   Tm     SLP     H   VV    V    VM      PM 2.5\n",
              "0  7.4   9.8  4.8  1017.6  93.0  0.5  4.3   9.4  219.720833\n",
              "1  7.8  12.7  4.4  1018.5  87.0  0.6  4.4  11.1  182.187500"
            ]
          },
          "metadata": {},
          "execution_count": 23
        }
      ]
    },
    {
      "cell_type": "code",
      "source": [
        "df=df.dropna()"
      ],
      "metadata": {
        "id": "dyn_cs-EoYS5"
      },
      "execution_count": 24,
      "outputs": []
    },
    {
      "cell_type": "code",
      "source": [
        "x = df.iloc[:, :-1]\n",
        "y = df.iloc[:, -1:]"
      ],
      "metadata": {
        "id": "SWKXotIlRs4j"
      },
      "execution_count": 25,
      "outputs": []
    },
    {
      "cell_type": "code",
      "source": [
        "from sklearn.preprocessing import StandardScaler\n",
        "sc = StandardScaler()\n",
        "x = sc.fit_transform(x)"
      ],
      "metadata": {
        "id": "5VTpALhNoueH"
      },
      "execution_count": 26,
      "outputs": []
    },
    {
      "cell_type": "code",
      "source": [
        " # In order to use the randon search, we need to iterate with different no. of hidden layers to get the best NN.\n",
        " # we use min of 2 and max of 20 hidden layers and find the best no,. of layers.\n",
        " # We use min of 32 and max of 512 neurons and find the best no. of neurons.\n",
        " # We iterate the learning rate and find the best value with Random Search\n",
        "\n",
        " # We have created a ANN using the below function\n",
        " def build_model(hp):\n",
        "   model = keras.Sequential()\n",
        "   for i in range(hp.Int('num_layers', 2, 20)):\n",
        "     model.add(layers.Dense(units=hp.Int(f\"units_{i}\", min_value=32, max_value=512, step=32), activation='relu'))\n",
        "\n",
        "   model.add(layers.Dense(1, activation='linear')) \n",
        "   model.compile(optimizer=keras.optimizers.Adam(learning_rate=hp.Choice('learning_rate', values=[1e-2, 1e-3, 1e-4])), loss='mean_absolute_error', metrics=['mean_absolute_error'])\n",
        "   return model    "
      ],
      "metadata": {
        "id": "krhjIgYcSLEX"
      },
      "execution_count": 27,
      "outputs": []
    },
    {
      "cell_type": "code",
      "source": [
        "# tuner does the random search for the above defined function\n",
        "# For one for loop, we specified max trials of 5 and executions per trial of 3\n",
        "# Hence total iterations is 15\n",
        "tuner = RandomSearch(\n",
        "    build_model,\n",
        "    objective = 'val_mean_absolute_error',\n",
        "    max_trials=5,\n",
        "    executions_per_trial=3,\n",
        "    directory='project4',\n",
        "    project_name='Air Quality Index'\n",
        ")"
      ],
      "metadata": {
        "id": "8BCxtAkjYyLq"
      },
      "execution_count": 28,
      "outputs": []
    },
    {
      "cell_type": "code",
      "source": [
        "tuner.search_space_summary()"
      ],
      "metadata": {
        "colab": {
          "base_uri": "https://localhost:8080/"
        },
        "id": "k0BvGg-IiiOM",
        "outputId": "f158a412-70c9-47db-8b6f-9e4524a7ea74"
      },
      "execution_count": 29,
      "outputs": [
        {
          "output_type": "stream",
          "name": "stdout",
          "text": [
            "Search space summary\n",
            "Default search space size: 4\n",
            "num_layers (Int)\n",
            "{'default': None, 'conditions': [], 'min_value': 2, 'max_value': 20, 'step': 1, 'sampling': None}\n",
            "units_0 (Int)\n",
            "{'default': None, 'conditions': [], 'min_value': 32, 'max_value': 512, 'step': 32, 'sampling': None}\n",
            "units_1 (Int)\n",
            "{'default': None, 'conditions': [], 'min_value': 32, 'max_value': 512, 'step': 32, 'sampling': None}\n",
            "learning_rate (Choice)\n",
            "{'default': 0.01, 'conditions': [], 'values': [0.01, 0.001, 0.0001], 'ordered': True}\n"
          ]
        }
      ]
    },
    {
      "cell_type": "code",
      "source": [
        "from sklearn.model_selection import train_test_split\n",
        "x_train, x_test, y_train, y_test = train_test_split(x, y, test_size=0.3, random_state=10)"
      ],
      "metadata": {
        "id": "sZp7sUdLq_h-"
      },
      "execution_count": 30,
      "outputs": []
    },
    {
      "cell_type": "code",
      "source": [
        "tuner.search(x_train, y_train, epochs=5, validation_data=(x_test, y_test))"
      ],
      "metadata": {
        "colab": {
          "base_uri": "https://localhost:8080/"
        },
        "id": "gKcMc5gd030c",
        "outputId": "cc031beb-53c4-4d99-b7c5-88c0eb785e08"
      },
      "execution_count": 31,
      "outputs": [
        {
          "output_type": "stream",
          "name": "stdout",
          "text": [
            "Trial 5 Complete [00h 00m 06s]\n",
            "val_mean_absolute_error: 109.19062805175781\n",
            "\n",
            "Best val_mean_absolute_error So Far: 39.929481506347656\n",
            "Total elapsed time: 00h 00m 55s\n",
            "INFO:tensorflow:Oracle triggered exit\n"
          ]
        }
      ]
    },
    {
      "cell_type": "code",
      "source": [
        "tuner.search_space_summary()"
      ],
      "metadata": {
        "colab": {
          "base_uri": "https://localhost:8080/"
        },
        "id": "l6pLkYoq1ELN",
        "outputId": "9f6873da-b418-4072-ff08-87c7e4f05c60"
      },
      "execution_count": 32,
      "outputs": [
        {
          "output_type": "stream",
          "name": "stdout",
          "text": [
            "Search space summary\n",
            "Default search space size: 21\n",
            "num_layers (Int)\n",
            "{'default': None, 'conditions': [], 'min_value': 2, 'max_value': 20, 'step': 1, 'sampling': None}\n",
            "units_0 (Int)\n",
            "{'default': None, 'conditions': [], 'min_value': 32, 'max_value': 512, 'step': 32, 'sampling': None}\n",
            "units_1 (Int)\n",
            "{'default': None, 'conditions': [], 'min_value': 32, 'max_value': 512, 'step': 32, 'sampling': None}\n",
            "learning_rate (Choice)\n",
            "{'default': 0.01, 'conditions': [], 'values': [0.01, 0.001, 0.0001], 'ordered': True}\n",
            "units_2 (Int)\n",
            "{'default': None, 'conditions': [], 'min_value': 32, 'max_value': 512, 'step': 32, 'sampling': None}\n",
            "units_3 (Int)\n",
            "{'default': None, 'conditions': [], 'min_value': 32, 'max_value': 512, 'step': 32, 'sampling': None}\n",
            "units_4 (Int)\n",
            "{'default': None, 'conditions': [], 'min_value': 32, 'max_value': 512, 'step': 32, 'sampling': None}\n",
            "units_5 (Int)\n",
            "{'default': None, 'conditions': [], 'min_value': 32, 'max_value': 512, 'step': 32, 'sampling': None}\n",
            "units_6 (Int)\n",
            "{'default': None, 'conditions': [], 'min_value': 32, 'max_value': 512, 'step': 32, 'sampling': None}\n",
            "units_7 (Int)\n",
            "{'default': None, 'conditions': [], 'min_value': 32, 'max_value': 512, 'step': 32, 'sampling': None}\n",
            "units_8 (Int)\n",
            "{'default': None, 'conditions': [], 'min_value': 32, 'max_value': 512, 'step': 32, 'sampling': None}\n",
            "units_9 (Int)\n",
            "{'default': None, 'conditions': [], 'min_value': 32, 'max_value': 512, 'step': 32, 'sampling': None}\n",
            "units_10 (Int)\n",
            "{'default': None, 'conditions': [], 'min_value': 32, 'max_value': 512, 'step': 32, 'sampling': None}\n",
            "units_11 (Int)\n",
            "{'default': None, 'conditions': [], 'min_value': 32, 'max_value': 512, 'step': 32, 'sampling': None}\n",
            "units_12 (Int)\n",
            "{'default': None, 'conditions': [], 'min_value': 32, 'max_value': 512, 'step': 32, 'sampling': None}\n",
            "units_13 (Int)\n",
            "{'default': None, 'conditions': [], 'min_value': 32, 'max_value': 512, 'step': 32, 'sampling': None}\n",
            "units_14 (Int)\n",
            "{'default': None, 'conditions': [], 'min_value': 32, 'max_value': 512, 'step': 32, 'sampling': None}\n",
            "units_15 (Int)\n",
            "{'default': None, 'conditions': [], 'min_value': 32, 'max_value': 512, 'step': 32, 'sampling': None}\n",
            "units_16 (Int)\n",
            "{'default': None, 'conditions': [], 'min_value': 32, 'max_value': 512, 'step': 32, 'sampling': None}\n",
            "units_17 (Int)\n",
            "{'default': None, 'conditions': [], 'min_value': 32, 'max_value': 512, 'step': 32, 'sampling': None}\n",
            "units_18 (Int)\n",
            "{'default': None, 'conditions': [], 'min_value': 32, 'max_value': 512, 'step': 32, 'sampling': None}\n"
          ]
        }
      ]
    },
    {
      "cell_type": "code",
      "source": [
        "tuner.results_summary()"
      ],
      "metadata": {
        "id": "Gsm8pM6N1iXc",
        "colab": {
          "base_uri": "https://localhost:8080/"
        },
        "outputId": "7fe1dd4c-f88d-4423-c1e0-c8f79a3818df"
      },
      "execution_count": 33,
      "outputs": [
        {
          "output_type": "stream",
          "name": "stdout",
          "text": [
            "Results summary\n",
            "Results in project4/Air Quality Index\n",
            "Showing 10 best trials\n",
            "Objective(name='val_mean_absolute_error', direction='min')\n",
            "Trial summary\n",
            "Hyperparameters:\n",
            "num_layers: 12\n",
            "units_0: 96\n",
            "units_1: 512\n",
            "learning_rate: 0.01\n",
            "units_2: 32\n",
            "units_3: 32\n",
            "units_4: 32\n",
            "units_5: 32\n",
            "units_6: 32\n",
            "units_7: 32\n",
            "units_8: 32\n",
            "units_9: 32\n",
            "units_10: 32\n",
            "units_11: 32\n",
            "Score: 39.929481506347656\n",
            "Trial summary\n",
            "Hyperparameters:\n",
            "num_layers: 18\n",
            "units_0: 384\n",
            "units_1: 160\n",
            "learning_rate: 0.01\n",
            "units_2: 160\n",
            "units_3: 480\n",
            "units_4: 416\n",
            "units_5: 256\n",
            "units_6: 32\n",
            "units_7: 160\n",
            "units_8: 448\n",
            "units_9: 416\n",
            "units_10: 160\n",
            "units_11: 384\n",
            "units_12: 32\n",
            "units_13: 32\n",
            "units_14: 32\n",
            "units_15: 32\n",
            "units_16: 32\n",
            "units_17: 32\n",
            "Score: 44.78671010335287\n",
            "Trial summary\n",
            "Hyperparameters:\n",
            "num_layers: 19\n",
            "units_0: 288\n",
            "units_1: 64\n",
            "learning_rate: 0.0001\n",
            "units_2: 64\n",
            "units_3: 480\n",
            "units_4: 480\n",
            "units_5: 320\n",
            "units_6: 64\n",
            "units_7: 480\n",
            "units_8: 320\n",
            "units_9: 288\n",
            "units_10: 192\n",
            "units_11: 224\n",
            "units_12: 256\n",
            "units_13: 256\n",
            "units_14: 352\n",
            "units_15: 320\n",
            "units_16: 64\n",
            "units_17: 128\n",
            "units_18: 32\n",
            "Score: 45.77886454264323\n",
            "Trial summary\n",
            "Hyperparameters:\n",
            "num_layers: 2\n",
            "units_0: 416\n",
            "units_1: 288\n",
            "learning_rate: 0.0001\n",
            "units_2: 480\n",
            "units_3: 256\n",
            "units_4: 448\n",
            "units_5: 96\n",
            "units_6: 320\n",
            "units_7: 224\n",
            "units_8: 64\n",
            "units_9: 416\n",
            "units_10: 384\n",
            "units_11: 512\n",
            "units_12: 512\n",
            "units_13: 128\n",
            "units_14: 320\n",
            "units_15: 256\n",
            "units_16: 320\n",
            "units_17: 352\n",
            "units_18: 224\n",
            "Score: 105.26455688476562\n",
            "Trial summary\n",
            "Hyperparameters:\n",
            "num_layers: 4\n",
            "units_0: 288\n",
            "units_1: 64\n",
            "learning_rate: 0.0001\n",
            "units_2: 64\n",
            "units_3: 32\n",
            "units_4: 128\n",
            "units_5: 128\n",
            "units_6: 384\n",
            "units_7: 160\n",
            "units_8: 416\n",
            "units_9: 416\n",
            "units_10: 192\n",
            "units_11: 192\n",
            "units_12: 416\n",
            "units_13: 256\n",
            "units_14: 32\n",
            "units_15: 512\n",
            "units_16: 480\n",
            "units_17: 480\n",
            "units_18: 96\n",
            "Score: 109.19062805175781\n"
          ]
        }
      ]
    },
    {
      "cell_type": "code",
      "source": [
        "from keras.models import Sequential\n",
        "from keras.layers import ReLU, Dense"
      ],
      "metadata": {
        "id": "AHeesb6sjHgL"
      },
      "execution_count": 39,
      "outputs": []
    },
    {
      "cell_type": "code",
      "source": [
        "regr = Sequential()"
      ],
      "metadata": {
        "id": "f65Z8OcUujDh"
      },
      "execution_count": 50,
      "outputs": []
    },
    {
      "cell_type": "code",
      "source": [
        "units = [96,512,32,32,32,32,32,32,32,32,32,32]\n",
        "for i in units:\n",
        "  regr.add(Dense(units=i, kernel_initializer='he_uniform', activation='relu', input_dim = 8))\n",
        "\n",
        "regr.add(Dense(units=1, activation='linear'))"
      ],
      "metadata": {
        "id": "zu894MQ7u7k_"
      },
      "execution_count": 51,
      "outputs": []
    },
    {
      "cell_type": "code",
      "source": [
        "regr.summary()"
      ],
      "metadata": {
        "colab": {
          "base_uri": "https://localhost:8080/"
        },
        "id": "Fg3WvZJXvWPo",
        "outputId": "b17ce8a0-96f2-4d7d-f322-774ddbeb9557"
      },
      "execution_count": 52,
      "outputs": [
        {
          "output_type": "stream",
          "name": "stdout",
          "text": [
            "Model: \"sequential_4\"\n",
            "_________________________________________________________________\n",
            " Layer (type)                Output Shape              Param #   \n",
            "=================================================================\n",
            " dense_42 (Dense)            (None, 96)                864       \n",
            "                                                                 \n",
            " dense_43 (Dense)            (None, 512)               49664     \n",
            "                                                                 \n",
            " dense_44 (Dense)            (None, 32)                16416     \n",
            "                                                                 \n",
            " dense_45 (Dense)            (None, 32)                1056      \n",
            "                                                                 \n",
            " dense_46 (Dense)            (None, 32)                1056      \n",
            "                                                                 \n",
            " dense_47 (Dense)            (None, 32)                1056      \n",
            "                                                                 \n",
            " dense_48 (Dense)            (None, 32)                1056      \n",
            "                                                                 \n",
            " dense_49 (Dense)            (None, 32)                1056      \n",
            "                                                                 \n",
            " dense_50 (Dense)            (None, 32)                1056      \n",
            "                                                                 \n",
            " dense_51 (Dense)            (None, 32)                1056      \n",
            "                                                                 \n",
            " dense_52 (Dense)            (None, 32)                1056      \n",
            "                                                                 \n",
            " dense_53 (Dense)            (None, 32)                1056      \n",
            "                                                                 \n",
            " dense_54 (Dense)            (None, 1)                 33        \n",
            "                                                                 \n",
            "=================================================================\n",
            "Total params: 76,481\n",
            "Trainable params: 76,481\n",
            "Non-trainable params: 0\n",
            "_________________________________________________________________\n"
          ]
        }
      ]
    },
    {
      "cell_type": "code",
      "source": [
        "regr.compile(optimizer=keras.optimizers.Adam(learning_rate=0.01), loss='mae', metrics=['mae'])"
      ],
      "metadata": {
        "id": "SVLP_ONJxIH_"
      },
      "execution_count": 54,
      "outputs": []
    },
    {
      "cell_type": "code",
      "source": [
        "model_train = regr.fit(x_train, y_train, batch_size=15, epochs=100)"
      ],
      "metadata": {
        "colab": {
          "base_uri": "https://localhost:8080/"
        },
        "id": "aBU9gzJx3gYm",
        "outputId": "06a45a14-ef4f-4f91-b9e1-e72c03dcf39c"
      },
      "execution_count": 55,
      "outputs": [
        {
          "output_type": "stream",
          "name": "stdout",
          "text": [
            "Epoch 1/100\n",
            "51/51 [==============================] - 1s 4ms/step - loss: 51.3188 - mae: 51.3188\n",
            "Epoch 2/100\n",
            "51/51 [==============================] - 0s 4ms/step - loss: 43.0531 - mae: 43.0531\n",
            "Epoch 3/100\n",
            "51/51 [==============================] - 0s 4ms/step - loss: 37.4500 - mae: 37.4500\n",
            "Epoch 4/100\n",
            "51/51 [==============================] - 0s 4ms/step - loss: 37.8904 - mae: 37.8904\n",
            "Epoch 5/100\n",
            "51/51 [==============================] - 0s 4ms/step - loss: 38.2445 - mae: 38.2445\n",
            "Epoch 6/100\n",
            "51/51 [==============================] - 0s 4ms/step - loss: 34.7860 - mae: 34.7860\n",
            "Epoch 7/100\n",
            "51/51 [==============================] - 0s 4ms/step - loss: 36.0763 - mae: 36.0763\n",
            "Epoch 8/100\n",
            "51/51 [==============================] - 0s 4ms/step - loss: 34.8285 - mae: 34.8285\n",
            "Epoch 9/100\n",
            "51/51 [==============================] - 0s 4ms/step - loss: 33.7239 - mae: 33.7239\n",
            "Epoch 10/100\n",
            "51/51 [==============================] - 0s 4ms/step - loss: 36.8711 - mae: 36.8711\n",
            "Epoch 11/100\n",
            "51/51 [==============================] - 0s 4ms/step - loss: 34.7687 - mae: 34.7687\n",
            "Epoch 12/100\n",
            "51/51 [==============================] - 0s 4ms/step - loss: 30.1657 - mae: 30.1657\n",
            "Epoch 13/100\n",
            "51/51 [==============================] - 0s 4ms/step - loss: 33.6505 - mae: 33.6505\n",
            "Epoch 14/100\n",
            "51/51 [==============================] - 0s 4ms/step - loss: 30.7099 - mae: 30.7099\n",
            "Epoch 15/100\n",
            "51/51 [==============================] - 0s 4ms/step - loss: 31.7630 - mae: 31.7630\n",
            "Epoch 16/100\n",
            "51/51 [==============================] - 0s 4ms/step - loss: 29.4404 - mae: 29.4404\n",
            "Epoch 17/100\n",
            "51/51 [==============================] - 0s 4ms/step - loss: 30.4507 - mae: 30.4507\n",
            "Epoch 18/100\n",
            "51/51 [==============================] - 0s 4ms/step - loss: 32.3441 - mae: 32.3441\n",
            "Epoch 19/100\n",
            "51/51 [==============================] - 0s 4ms/step - loss: 34.5542 - mae: 34.5542\n",
            "Epoch 20/100\n",
            "51/51 [==============================] - 0s 4ms/step - loss: 29.3067 - mae: 29.3067\n",
            "Epoch 21/100\n",
            "51/51 [==============================] - 0s 4ms/step - loss: 29.1718 - mae: 29.1718\n",
            "Epoch 22/100\n",
            "51/51 [==============================] - 0s 4ms/step - loss: 28.8591 - mae: 28.8591\n",
            "Epoch 23/100\n",
            "51/51 [==============================] - 0s 4ms/step - loss: 29.9488 - mae: 29.9488\n",
            "Epoch 24/100\n",
            "51/51 [==============================] - 0s 4ms/step - loss: 30.4605 - mae: 30.4605\n",
            "Epoch 25/100\n",
            "51/51 [==============================] - 0s 4ms/step - loss: 28.4151 - mae: 28.4151\n",
            "Epoch 26/100\n",
            "51/51 [==============================] - 0s 4ms/step - loss: 31.2546 - mae: 31.2546\n",
            "Epoch 27/100\n",
            "51/51 [==============================] - 0s 4ms/step - loss: 28.6381 - mae: 28.6381\n",
            "Epoch 28/100\n",
            "51/51 [==============================] - 0s 4ms/step - loss: 28.6754 - mae: 28.6754\n",
            "Epoch 29/100\n",
            "51/51 [==============================] - 0s 4ms/step - loss: 27.1418 - mae: 27.1418\n",
            "Epoch 30/100\n",
            "51/51 [==============================] - 0s 4ms/step - loss: 28.0068 - mae: 28.0068\n",
            "Epoch 31/100\n",
            "51/51 [==============================] - 0s 4ms/step - loss: 28.9913 - mae: 28.9913\n",
            "Epoch 32/100\n",
            "51/51 [==============================] - 0s 4ms/step - loss: 25.8307 - mae: 25.8307\n",
            "Epoch 33/100\n",
            "51/51 [==============================] - 0s 4ms/step - loss: 30.3440 - mae: 30.3440\n",
            "Epoch 34/100\n",
            "51/51 [==============================] - 0s 4ms/step - loss: 31.5431 - mae: 31.5431\n",
            "Epoch 35/100\n",
            "51/51 [==============================] - 0s 4ms/step - loss: 31.4799 - mae: 31.4799\n",
            "Epoch 36/100\n",
            "51/51 [==============================] - 0s 4ms/step - loss: 25.1114 - mae: 25.1114\n",
            "Epoch 37/100\n",
            "51/51 [==============================] - 0s 4ms/step - loss: 24.1407 - mae: 24.1407\n",
            "Epoch 38/100\n",
            "51/51 [==============================] - 0s 4ms/step - loss: 24.1268 - mae: 24.1268\n",
            "Epoch 39/100\n",
            "51/51 [==============================] - 0s 4ms/step - loss: 25.0540 - mae: 25.0540\n",
            "Epoch 40/100\n",
            "51/51 [==============================] - 0s 4ms/step - loss: 24.4064 - mae: 24.4064\n",
            "Epoch 41/100\n",
            "51/51 [==============================] - 0s 4ms/step - loss: 24.9361 - mae: 24.9361\n",
            "Epoch 42/100\n",
            "51/51 [==============================] - 0s 4ms/step - loss: 23.7413 - mae: 23.7413\n",
            "Epoch 43/100\n",
            "51/51 [==============================] - 0s 4ms/step - loss: 25.3005 - mae: 25.3005\n",
            "Epoch 44/100\n",
            "51/51 [==============================] - 0s 4ms/step - loss: 26.9667 - mae: 26.9667\n",
            "Epoch 45/100\n",
            "51/51 [==============================] - 0s 4ms/step - loss: 24.9251 - mae: 24.9251\n",
            "Epoch 46/100\n",
            "51/51 [==============================] - 0s 4ms/step - loss: 25.9313 - mae: 25.9313\n",
            "Epoch 47/100\n",
            "51/51 [==============================] - 0s 4ms/step - loss: 33.2815 - mae: 33.2815\n",
            "Epoch 48/100\n",
            "51/51 [==============================] - 0s 4ms/step - loss: 24.5147 - mae: 24.5147\n",
            "Epoch 49/100\n",
            "51/51 [==============================] - 0s 4ms/step - loss: 25.1113 - mae: 25.1113\n",
            "Epoch 50/100\n",
            "51/51 [==============================] - 0s 4ms/step - loss: 27.7556 - mae: 27.7556\n",
            "Epoch 51/100\n",
            "51/51 [==============================] - 0s 4ms/step - loss: 25.4903 - mae: 25.4903\n",
            "Epoch 52/100\n",
            "51/51 [==============================] - 0s 4ms/step - loss: 26.6568 - mae: 26.6568\n",
            "Epoch 53/100\n",
            "51/51 [==============================] - 0s 4ms/step - loss: 27.6343 - mae: 27.6343\n",
            "Epoch 54/100\n",
            "51/51 [==============================] - 0s 4ms/step - loss: 24.4631 - mae: 24.4631\n",
            "Epoch 55/100\n",
            "51/51 [==============================] - 0s 4ms/step - loss: 24.5546 - mae: 24.5546\n",
            "Epoch 56/100\n",
            "51/51 [==============================] - 0s 4ms/step - loss: 22.8201 - mae: 22.8201\n",
            "Epoch 57/100\n",
            "51/51 [==============================] - 0s 4ms/step - loss: 24.3630 - mae: 24.3630\n",
            "Epoch 58/100\n",
            "51/51 [==============================] - 0s 4ms/step - loss: 22.4145 - mae: 22.4145\n",
            "Epoch 59/100\n",
            "51/51 [==============================] - 0s 4ms/step - loss: 24.1544 - mae: 24.1544\n",
            "Epoch 60/100\n",
            "51/51 [==============================] - 0s 4ms/step - loss: 22.5552 - mae: 22.5552\n",
            "Epoch 61/100\n",
            "51/51 [==============================] - 0s 4ms/step - loss: 22.2126 - mae: 22.2126\n",
            "Epoch 62/100\n",
            "51/51 [==============================] - 0s 4ms/step - loss: 21.6875 - mae: 21.6875\n",
            "Epoch 63/100\n",
            "51/51 [==============================] - 0s 4ms/step - loss: 23.3017 - mae: 23.3017\n",
            "Epoch 64/100\n",
            "51/51 [==============================] - 0s 4ms/step - loss: 22.0957 - mae: 22.0957\n",
            "Epoch 65/100\n",
            "51/51 [==============================] - 0s 4ms/step - loss: 23.0221 - mae: 23.0221\n",
            "Epoch 66/100\n",
            "51/51 [==============================] - 0s 4ms/step - loss: 21.8261 - mae: 21.8261\n",
            "Epoch 67/100\n",
            "51/51 [==============================] - 0s 4ms/step - loss: 19.7090 - mae: 19.7090\n",
            "Epoch 68/100\n",
            "51/51 [==============================] - 0s 4ms/step - loss: 20.2565 - mae: 20.2565\n",
            "Epoch 69/100\n",
            "51/51 [==============================] - 0s 4ms/step - loss: 22.2684 - mae: 22.2684\n",
            "Epoch 70/100\n",
            "51/51 [==============================] - 0s 4ms/step - loss: 20.6104 - mae: 20.6104\n",
            "Epoch 71/100\n",
            "51/51 [==============================] - 0s 4ms/step - loss: 21.0526 - mae: 21.0526\n",
            "Epoch 72/100\n",
            "51/51 [==============================] - 0s 4ms/step - loss: 21.8967 - mae: 21.8967\n",
            "Epoch 73/100\n",
            "51/51 [==============================] - 0s 4ms/step - loss: 20.0723 - mae: 20.0723\n",
            "Epoch 74/100\n",
            "51/51 [==============================] - 0s 4ms/step - loss: 20.0257 - mae: 20.0257\n",
            "Epoch 75/100\n",
            "51/51 [==============================] - 0s 4ms/step - loss: 21.2527 - mae: 21.2527\n",
            "Epoch 76/100\n",
            "51/51 [==============================] - 0s 4ms/step - loss: 20.7448 - mae: 20.7448\n",
            "Epoch 77/100\n",
            "51/51 [==============================] - 0s 4ms/step - loss: 20.2582 - mae: 20.2582\n",
            "Epoch 78/100\n",
            "51/51 [==============================] - 0s 4ms/step - loss: 19.8649 - mae: 19.8649\n",
            "Epoch 79/100\n",
            "51/51 [==============================] - 0s 4ms/step - loss: 19.7190 - mae: 19.7190\n",
            "Epoch 80/100\n",
            "51/51 [==============================] - 0s 4ms/step - loss: 18.5780 - mae: 18.5780\n",
            "Epoch 81/100\n",
            "51/51 [==============================] - 0s 4ms/step - loss: 17.5113 - mae: 17.5113\n",
            "Epoch 82/100\n",
            "51/51 [==============================] - 0s 4ms/step - loss: 18.3761 - mae: 18.3761\n",
            "Epoch 83/100\n",
            "51/51 [==============================] - 0s 4ms/step - loss: 19.8980 - mae: 19.8980\n",
            "Epoch 84/100\n",
            "51/51 [==============================] - 0s 4ms/step - loss: 18.5637 - mae: 18.5637\n",
            "Epoch 85/100\n",
            "51/51 [==============================] - 0s 4ms/step - loss: 18.8279 - mae: 18.8279\n",
            "Epoch 86/100\n",
            "51/51 [==============================] - 0s 4ms/step - loss: 22.1492 - mae: 22.1492\n",
            "Epoch 87/100\n",
            "51/51 [==============================] - 0s 4ms/step - loss: 16.8615 - mae: 16.8615\n",
            "Epoch 88/100\n",
            "51/51 [==============================] - 0s 4ms/step - loss: 19.6763 - mae: 19.6763\n",
            "Epoch 89/100\n",
            "51/51 [==============================] - 0s 4ms/step - loss: 21.1962 - mae: 21.1962\n",
            "Epoch 90/100\n",
            "51/51 [==============================] - 0s 4ms/step - loss: 18.3923 - mae: 18.3923\n",
            "Epoch 91/100\n",
            "51/51 [==============================] - 0s 4ms/step - loss: 17.7264 - mae: 17.7264\n",
            "Epoch 92/100\n",
            "51/51 [==============================] - 0s 4ms/step - loss: 17.3924 - mae: 17.3924\n",
            "Epoch 93/100\n",
            "51/51 [==============================] - 0s 4ms/step - loss: 16.5951 - mae: 16.5951\n",
            "Epoch 94/100\n",
            "51/51 [==============================] - 0s 4ms/step - loss: 16.5624 - mae: 16.5624\n",
            "Epoch 95/100\n",
            "51/51 [==============================] - 0s 4ms/step - loss: 17.9286 - mae: 17.9286\n",
            "Epoch 96/100\n",
            "51/51 [==============================] - 0s 4ms/step - loss: 17.4730 - mae: 17.4730\n",
            "Epoch 97/100\n",
            "51/51 [==============================] - 0s 4ms/step - loss: 28.1235 - mae: 28.1235\n",
            "Epoch 98/100\n",
            "51/51 [==============================] - 0s 4ms/step - loss: 23.9777 - mae: 23.9777\n",
            "Epoch 99/100\n",
            "51/51 [==============================] - 0s 4ms/step - loss: 19.6856 - mae: 19.6856\n",
            "Epoch 100/100\n",
            "51/51 [==============================] - 0s 4ms/step - loss: 20.7081 - mae: 20.7081\n"
          ]
        }
      ]
    },
    {
      "cell_type": "code",
      "source": [
        "predict = regr.predict(x_test)"
      ],
      "metadata": {
        "id": "KZnki58-4DGO"
      },
      "execution_count": 56,
      "outputs": []
    },
    {
      "cell_type": "code",
      "source": [
        "from sklearn.metrics import mean_absolute_error, r2_score\n",
        "print(mean_absolute_error(y_test, predict))\n",
        "print(r2_score(y_test, predict))"
      ],
      "metadata": {
        "colab": {
          "base_uri": "https://localhost:8080/"
        },
        "id": "IcW9VmQ94IuI",
        "outputId": "892bc7b9-b7be-46e3-b442-2df0f0f8d931"
      },
      "execution_count": 57,
      "outputs": [
        {
          "output_type": "stream",
          "name": "stdout",
          "text": [
            "41.469464689735474\n",
            "0.5283393955268305\n"
          ]
        }
      ]
    },
    {
      "cell_type": "code",
      "source": [
        ""
      ],
      "metadata": {
        "id": "GWa5MjdU4Z81"
      },
      "execution_count": null,
      "outputs": []
    }
  ]
}